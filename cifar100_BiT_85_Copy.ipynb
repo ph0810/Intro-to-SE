{
  "nbformat": 4,
  "nbformat_minor": 0,
  "metadata": {
    "accelerator": "GPU",
    "colab": {
      "name": "cifar100_BiT_85_Copy.ipynb",
      "provenance": [],
      "collapsed_sections": [],
      "machine_shape": "hm",
      "include_colab_link": true
    },
    "kernelspec": {
      "display_name": "Python 3",
      "language": "python",
      "name": "python3"
    },
    "language_info": {
      "codemirror_mode": {
        "name": "ipython",
        "version": 3
      },
      "file_extension": ".py",
      "mimetype": "text/x-python",
      "name": "python",
      "nbconvert_exporter": "python",
      "pygments_lexer": "ipython3",
      "version": "3.7.6"
    }
  },
  "cells": [
    {
      "cell_type": "markdown",
      "metadata": {
        "id": "view-in-github",
        "colab_type": "text"
      },
      "source": [
        "<a href=\"https://colab.research.google.com/github/ph0810/Intro-to-SE/blob/master/cifar100_BiT_85_Copy.ipynb\" target=\"_parent\"><img src=\"https://colab.research.google.com/assets/colab-badge.svg\" alt=\"Open In Colab\"/></a>"
      ]
    },
    {
      "cell_type": "code",
      "metadata": {
        "id": "Xaqkcir8iZwk",
        "colab": {
          "base_uri": "https://localhost:8080/"
        },
        "outputId": "b5b1c0a5-3ea1-4f19-b9e7-23dbc52c9ca2"
      },
      "source": [
        "from google.colab import drive\n",
        "drive.mount('/content/drive')"
      ],
      "execution_count": null,
      "outputs": [
        {
          "output_type": "stream",
          "text": [
            "Mounted at /content/drive\n"
          ],
          "name": "stdout"
        }
      ]
    },
    {
      "cell_type": "code",
      "metadata": {
        "id": "3fh0_Y_pie_0",
        "colab": {
          "base_uri": "https://localhost:8080/"
        },
        "outputId": "15f37a69-d88f-40dd-a2b8-8e73ae439433"
      },
      "source": [
        "cd /content/drive/MyDrive/Coursework1"
      ],
      "execution_count": null,
      "outputs": [
        {
          "output_type": "stream",
          "text": [
            "/content/drive/MyDrive/Coursework1\n"
          ],
          "name": "stdout"
        }
      ]
    },
    {
      "cell_type": "code",
      "metadata": {
        "cellView": "form",
        "id": "pitZxiw5hHYq"
      },
      "source": [
        "import tensorflow as tf\n",
        "import tensorflow_hub as hub\n",
        "\n",
        "import tensorflow_datasets as tfds\n",
        "\n",
        "import time\n",
        "\n",
        "from PIL import Image\n",
        "import requests\n",
        "from io import BytesIO\n",
        "\n",
        "import matplotlib.pyplot as plt\n",
        "import numpy as np\n",
        "\n",
        "import os\n",
        "import pathlib"
      ],
      "execution_count": null,
      "outputs": []
    },
    {
      "cell_type": "markdown",
      "metadata": {
        "id": "W97ueEAtk9k4"
      },
      "source": [
        "## 1. Load the pre-trained BiT model and datasets"
      ]
    },
    {
      "cell_type": "code",
      "metadata": {
        "id": "1i8HCwx28Ya2"
      },
      "source": [
        "# Load model into KerasLayer\n",
        "model_url = \"https://tfhub.dev/google/bit/m-r152x4/1\"\n",
        "module = hub.KerasLayer(model_url)"
      ],
      "execution_count": null,
      "outputs": []
    },
    {
      "cell_type": "code",
      "metadata": {
        "cellView": "both",
        "id": "M_KTcxDYhZf_"
      },
      "source": [
        "\n",
        "dataset_name = 'cifar100'\n",
        "ds, info = tfds.load(name=dataset_name, split=['train'], with_info=True)\n",
        "ds = ds[0]\n",
        "num_examples = info.splits['train'].num_examples\n",
        "NUM_CLASSES=100"
      ],
      "execution_count": null,
      "outputs": []
    },
    {
      "cell_type": "code",
      "metadata": {
        "id": "CIJyrvKX223E"
      },
      "source": [
        "# Split into train and test sets\n",
        "# We have checked that the classes are reasonably balanced.\n",
        "train_split = 0.8\n",
        "num_train = int(train_split * num_examples)\n",
        "ds_train = ds.take(num_train)\n",
        "ds_val = ds.skip(num_train)\n",
        "\n",
        "DATASET_NUM_TRAIN_EXAMPLES = num_examples"
      ],
      "execution_count": null,
      "outputs": []
    },
    {
      "cell_type": "code",
      "metadata": {
        "colab": {
          "base_uri": "https://localhost:8080/"
        },
        "id": "SV8p_ZPo3dHO",
        "outputId": "c0c573b2-6a89-449d-a324-a9c06bb166e2"
      },
      "source": [
        "print(num_train)"
      ],
      "execution_count": null,
      "outputs": [
        {
          "output_type": "stream",
          "text": [
            "40000\n"
          ],
          "name": "stdout"
        }
      ]
    },
    {
      "cell_type": "markdown",
      "metadata": {
        "id": "hRQcqdj7uIRo"
      },
      "source": [
        "## 2. Creating the new model\n"
      ]
    },
    {
      "cell_type": "code",
      "metadata": {
        "id": "s2RGgy4ghgsh"
      },
      "source": [
        "class MyBiTModel(tf.keras.Model):\n",
        "  \"\"\"BiT with a new head.\"\"\"\n",
        "\n",
        "  def __init__(self, num_classes, module):\n",
        "    super().__init__()\n",
        "\n",
        "    self.num_classes = num_classes\n",
        "    self.head = tf.keras.layers.Dense(num_classes, kernel_initializer='zeros')\n",
        "    self.bit_model = module\n",
        "  \n",
        "  def call(self, images):\n",
        "    # No need to cut head off since we are using feature extractor model\n",
        "    bit_embedding = self.bit_model(images)\n",
        "    return self.head(bit_embedding)\n",
        "\n",
        "model = MyBiTModel(num_classes=NUM_CLASSES, module=module)"
      ],
      "execution_count": null,
      "outputs": []
    },
    {
      "cell_type": "markdown",
      "metadata": {
        "id": "FEYhH53WdmjJ"
      },
      "source": [
        "### Data and preprocessing\n",
        "\n",
        "\n"
      ]
    },
    {
      "cell_type": "markdown",
      "metadata": {
        "id": "HqNQ01J0u4xs"
      },
      "source": [
        "#### BiT Hyper-Rule: Our hyperparameter selection heuristic\n",
        "When we fine-tune the model, we use BiT-HyperRule, our heuristic for choosing hyperparameters for downstream fine-tuning. This is **not a hyperparameter sweep** - given a dataset, it specifies one set of hyperparameters that we’ve seen produce good results. You can often obtain better results by running a more expensive hyperparameter sweep, but BiT-HyperRule is an effective way of getting good initial results on your dataset.\n",
        "\n",
        "**Hyperparameter heuristic details**\n",
        "\n",
        "In BiT-HyperRule, we use a vanilla SGD optimiser with an initial learning rate of 0.003, momentum 0.9 and batch size 512. We decay the learning rate by a factor of 10 at 30%, 60% and 90% of the training steps. \n",
        "\n",
        "As data preprocessing, we resize the image, take a random crop, and then do a random horizontal flip (details in table below). We do random crops and horizontal flips for all tasks except those where such actions destroy label semantics. E.g. we don’t apply random crops to counting tasks, or random horizontal flip to tasks where we’re meant to predict the orientation of an object.\n",
        "\n",
        "\n",
        "Image area | Resize to | Take random crop of size\n",
        "--- | --- | ---\n",
        "Smaller than 96 x 96 px | 160 x 160 px | 128 x 128 px\n",
        "At least 96 x 96 px | 512 x 512 px | 480 x 480 px\n",
        "\n",
        "*Table 1: Downstream resizing and random cropping details. If images are larger, we resize them to a larger fixed size to take advantage of benefits from fine-tuning on higher resolution.*\n"
      ]
    },
    {
      "cell_type": "markdown",
      "metadata": {
        "id": "lamKHdpM4KOk"
      },
      "source": [
        "We also use MixUp for datasets with more than 20k examples. Since the dataset used in this tutorial does not use MixUp, for simplicity and speed, we do not include it in this colab, but include it in our [github repo implementation](https://github.com/google-research/big_transfer)."
      ]
    },
    {
      "cell_type": "code",
      "metadata": {
        "cellView": "form",
        "id": "jp5APPRlheCC"
      },
      "source": [
        "IMAGE_SIZE = \"=\\u003C96x96 px\" # [\"=<96x96 px\",\"> 96 x 96 px\"]\n",
        "DATASET_SIZE = \"20k-500k examples\" # [\"<20k examples\", \"20k-500k examples\", \">500k examples\"]\n",
        "\n",
        "if IMAGE_SIZE == \"=<96x96 px\":\n",
        "    RESIZE_TO = 160\n",
        "    CROP_TO = 128\n",
        "else:\n",
        "    RESIZE_TO = 512\n",
        "    CROP_TO = 480\n",
        "\n",
        "if DATASET_SIZE == \"<20k examples\":\n",
        "    SCHEDULE_LENGTH = 500\n",
        "    SCHEDULE_BOUNDARIES = [200, 300, 400]\n",
        "elif DATASET_SIZE == \"20k-500k examples\":\n",
        "    SCHEDULE_LENGTH = 10000\n",
        "    SCHEDULE_BOUNDARIES = [3000, 6000, 9000]\n",
        "else:\n",
        "    SCHEDULE_LENGTH = 20000\n",
        "    SCHEDULE_BOUNDARIES = [6000, 12000, 18000]"
      ],
      "execution_count": null,
      "outputs": []
    },
    {
      "cell_type": "markdown",
      "metadata": {
        "id": "bJVjSZuVCCBr"
      },
      "source": [
        "**Tip**: if you are running out of memory, decrease the batch size. A way to adjust relevant parameters is to linearly scale the schedule length and learning rate.\n",
        "\n",
        "```\n",
        "SCHEDULE_LENGTH = SCHEDULE_LENGTH * 512 / BATCH_SIZE\n",
        "lr = 0.003 * BATCH_SIZE / 512\n",
        "```\n",
        "\n",
        "These adjustments have already been coded in the cells below - you only have to change the `BATCH_SIZE`. If you change the batch size, please re-run the cell above as well to make sure the `SCHEDULE_LENGTH` you are starting from is correct as opposed to already altered from a previous run."
      ]
    },
    {
      "cell_type": "code",
      "metadata": {
        "id": "3DiIrQFBhe9R"
      },
      "source": [
        "# Preprocessing helper functions\n",
        "\n",
        "# Create data pipelines for training and testing:\n",
        "BATCH_SIZE = 128\n",
        "SCHEDULE_LENGTH = SCHEDULE_LENGTH * 512 / BATCH_SIZE\n",
        "\n",
        "STEPS_PER_EPOCH = (45000)//128\n",
        "\n",
        "def cast_to_tuple(features):\n",
        "    return (features['image'], features['label'])\n",
        "  \n",
        "def preprocess_train(features):\n",
        "    # Apply random crops and horizontal flips for all tasks \n",
        "    # except those for which cropping or flipping destroys the label semantics\n",
        "    # (e.g. predict orientation of an object)\n",
        "    features['image'] = tf.image.random_flip_left_right(features['image'])\n",
        "    features['image'] = tf.image.resize(features['image'], [RESIZE_TO, RESIZE_TO])\n",
        "    features['image'] = tf.image.random_crop(features['image'], [CROP_TO, CROP_TO, 3])\n",
        "    features['image'] = tf.cast(features['image'], tf.float32) / 255.0\n",
        "    return features\n",
        "\n",
        "def preprocess_test(features):\n",
        "    features['image'] = tf.image.resize(features['image'], [RESIZE_TO, RESIZE_TO])\n",
        "    features['image'] = tf.cast(features['image'], tf.float32) / 255.0\n",
        "    return features\n",
        "\n",
        "pipeline_train = (ds_train\n",
        "                  .shuffle(10000)\n",
        "                  .repeat(int(SCHEDULE_LENGTH * BATCH_SIZE / DATASET_NUM_TRAIN_EXAMPLES * STEPS_PER_EPOCH) + 1 + 50)  # repeat dataset_size / num_steps\n",
        "                  .map(preprocess_train, num_parallel_calls=8)\n",
        "                  .batch(BATCH_SIZE)\n",
        "                  .map(cast_to_tuple)  # for keras model.fit\n",
        "                  .prefetch(2))\n",
        "\n",
        "pipeline_test = (ds_val.map(preprocess_test, num_parallel_calls=1)\n",
        "                  .map(cast_to_tuple)  # for keras model.fit\n",
        "                  .batch(BATCH_SIZE)\n",
        "                  .prefetch(2))"
      ],
      "execution_count": null,
      "outputs": []
    },
    {
      "cell_type": "markdown",
      "metadata": {
        "id": "2c_-L8XDiPZ9"
      },
      "source": [
        "## 3. Define optimizer, loss_fn, lr_schedule and traning"
      ]
    },
    {
      "cell_type": "code",
      "metadata": {
        "id": "Zx60lxfzhoTQ"
      },
      "source": [
        "\n",
        "lr = 0.003 * BATCH_SIZE / 512 \n",
        "\n",
        "# Decay learning rate by a factor of 10 at SCHEDULE_BOUNDARIES.\n",
        "lr_schedule = tf.keras.optimizers.schedules.PiecewiseConstantDecay(boundaries=SCHEDULE_BOUNDARIES, \n",
        "                                                                   values=[lr, lr*0.1, lr*0.001, lr*0.0001])\n",
        "optimizer = tf.keras.optimizers.SGD(learning_rate=lr_schedule, momentum=0.9)\n",
        "\n",
        "loss_fn = tf.keras.losses.SparseCategoricalCrossentropy(from_logits=True)"
      ],
      "execution_count": null,
      "outputs": []
    },
    {
      "cell_type": "code",
      "metadata": {
        "id": "qJmqsAFmeQZd",
        "colab": {
          "base_uri": "https://localhost:8080/"
        },
        "outputId": "d995a1f1-7b5e-4908-e9c5-51db6b4e23ab"
      },
      "source": [
        "model.compile(optimizer=optimizer,\n",
        "              loss=loss_fn,\n",
        "              metrics=['accuracy'])\n",
        "\n",
        "# Fine-tune model\n",
        "history = model.fit(\n",
        "    pipeline_train,\n",
        "    batch_size=BATCH_SIZE,\n",
        "    steps_per_epoch=STEPS_PER_EPOCH,\n",
        "    epochs= 20,  # TODO: replace with `epochs=10` here to shorten fine-tuning for tutorial if you wish\n",
        "    validation_data=pipeline_test  # here we are only using \n",
        "                                   # this data to evaluate our performance\n",
        ")"
      ],
      "execution_count": null,
      "outputs": [
        {
          "output_type": "stream",
          "text": [
            "Epoch 1/20\n",
            "351/351 [==============================] - 1140s 3s/step - loss: 1.6917 - accuracy: 0.6201 - val_loss: 0.5901 - val_accuracy: 0.8265\n",
            "Epoch 2/20\n",
            "351/351 [==============================] - 1125s 3s/step - loss: 0.6487 - accuracy: 0.8099 - val_loss: 0.5689 - val_accuracy: 0.8339\n",
            "Epoch 3/20\n",
            "351/351 [==============================] - 1125s 3s/step - loss: 0.5465 - accuracy: 0.8381 - val_loss: 0.5170 - val_accuracy: 0.8459\n",
            "Epoch 4/20\n",
            "351/351 [==============================] - 1125s 3s/step - loss: 0.4827 - accuracy: 0.8551 - val_loss: 0.5316 - val_accuracy: 0.8423\n",
            "Epoch 5/20\n",
            "351/351 [==============================] - 1125s 3s/step - loss: 0.4359 - accuracy: 0.8712 - val_loss: 0.5392 - val_accuracy: 0.8383\n",
            "Epoch 6/20\n",
            "351/351 [==============================] - 1125s 3s/step - loss: 0.3900 - accuracy: 0.8821 - val_loss: 0.5202 - val_accuracy: 0.8477\n",
            "Epoch 7/20\n",
            "351/351 [==============================] - 1125s 3s/step - loss: 0.3518 - accuracy: 0.8938 - val_loss: 0.5165 - val_accuracy: 0.8467\n",
            "Epoch 8/20\n",
            "351/351 [==============================] - 1125s 3s/step - loss: 0.3322 - accuracy: 0.9008 - val_loss: 0.5069 - val_accuracy: 0.8469\n",
            "Epoch 9/20\n",
            "351/351 [==============================] - 1125s 3s/step - loss: 0.2965 - accuracy: 0.9114 - val_loss: 0.4983 - val_accuracy: 0.8519\n",
            "Epoch 10/20\n",
            "351/351 [==============================] - 1125s 3s/step - loss: 0.2406 - accuracy: 0.9335 - val_loss: 0.4969 - val_accuracy: 0.8524\n",
            "Epoch 11/20\n",
            "351/351 [==============================] - 1125s 3s/step - loss: 0.2336 - accuracy: 0.9352 - val_loss: 0.4927 - val_accuracy: 0.8532\n",
            "Epoch 12/20\n",
            "351/351 [==============================] - 1125s 3s/step - loss: 0.2429 - accuracy: 0.9345 - val_loss: 0.4918 - val_accuracy: 0.8538\n",
            "Epoch 13/20\n",
            "351/351 [==============================] - 1125s 3s/step - loss: 0.2414 - accuracy: 0.9345 - val_loss: 0.4917 - val_accuracy: 0.8538\n",
            "Epoch 14/20\n",
            "351/351 [==============================] - 1125s 3s/step - loss: 0.2386 - accuracy: 0.9362 - val_loss: 0.4908 - val_accuracy: 0.8538\n",
            "Epoch 15/20\n",
            "351/351 [==============================] - 1125s 3s/step - loss: 0.2339 - accuracy: 0.9374 - val_loss: 0.4903 - val_accuracy: 0.8552\n",
            "Epoch 16/20\n",
            "351/351 [==============================] - 1125s 3s/step - loss: 0.2325 - accuracy: 0.9380 - val_loss: 0.4885 - val_accuracy: 0.8550\n",
            "Epoch 17/20\n",
            "351/351 [==============================] - 1125s 3s/step - loss: 0.2256 - accuracy: 0.9427 - val_loss: 0.4884 - val_accuracy: 0.8545\n",
            "Epoch 18/20\n",
            "351/351 [==============================] - 1125s 3s/step - loss: 0.2276 - accuracy: 0.9391 - val_loss: 0.4901 - val_accuracy: 0.8538\n",
            "Epoch 19/20\n",
            "351/351 [==============================] - 1125s 3s/step - loss: 0.2262 - accuracy: 0.9397 - val_loss: 0.4899 - val_accuracy: 0.8540\n",
            "Epoch 20/20\n",
            "351/351 [==============================] - 1125s 3s/step - loss: 0.2254 - accuracy: 0.9423 - val_loss: 0.4897 - val_accuracy: 0.8539\n"
          ],
          "name": "stdout"
        }
      ]
    },
    {
      "cell_type": "code",
      "metadata": {
        "colab": {
          "base_uri": "https://localhost:8080/"
        },
        "id": "qcglRyeVDrGH",
        "outputId": "76ecb2fe-2420-496c-b2fb-f1b1b93500c0"
      },
      "source": [
        "print(history1)"
      ],
      "execution_count": null,
      "outputs": [
        {
          "output_type": "stream",
          "text": [
            "{'loss': [0.6180819272994995], 'accuracy': [0.8193776607513428], 'val_loss': [0.5430207252502441], 'val_accuracy': [0.8389999866485596]}\n"
          ],
          "name": "stdout"
        }
      ]
    },
    {
      "cell_type": "code",
      "metadata": {
        "id": "yBaNIlGbiPaF"
      },
      "source": [
        "import pickle\n",
        "with open('history_dict',\"wb\") as file:\n",
        "  pickle.dump(history.history,file)"
      ],
      "execution_count": null,
      "outputs": []
    },
    {
      "cell_type": "code",
      "metadata": {
        "id": "sUU6o_UTIbBa",
        "colab": {
          "base_uri": "https://localhost:8080/",
          "height": 336
        },
        "outputId": "64763c48-d998-43f9-ae54-2c13f877a13b"
      },
      "source": [
        "import pickle\n",
        "import matplotlib.pyplot as plt\n",
        "history1=pickle.load(open('history_dict',\"rb\"))\n",
        "fig,axes=plt.subplots(1,2,figsize=(10,5))\n",
        "axes[0].plot(history1['accuracy'],label='accuracy')\n",
        "axes[0].plot(history1['val_accuracy'],label='val_accuracy')\n",
        "axes[0].set_title('Accuracy')\n",
        "axes[0].legend()\n",
        "\n",
        "axes[1].plot(history1['loss'],label='loss')\n",
        "axes[1].plot(history1['val_loss'],label='val_loss')\n",
        "axes[1].set_title('Loss')\n",
        "axes[1].legend()\n",
        "plt.show()"
      ],
      "execution_count": null,
      "outputs": [
        {
          "output_type": "display_data",
          "data": {
            "image/png": "[encoded data removed]",
            "text/plain": [
              "<Figure size 720x360 with 2 Axes>"
            ]
          },
          "metadata": {
            "tags": [],
            "needs_background": "light"
          }
        }
      ]
    },
    {
      "cell_type": "markdown",
      "metadata": {
        "id": "-0ahkv3ZI0Wa"
      },
      "source": [
        "## 4.Save fine-tuned model for later use\n"
      ]
    },
    {
      "cell_type": "code",
      "metadata": {
        "id": "EOYOLzWblDSf",
        "colab": {
          "base_uri": "https://localhost:8080/"
        },
        "outputId": "dd8c2ee7-7748-4eff-a7b1-805bc3d36a40"
      },
      "source": [
        "model.save('cifar100_BiT')"
      ],
      "execution_count": null,
      "outputs": [
        {
          "output_type": "stream",
          "text": [
            "INFO:tensorflow:Assets written to: cifar100_BiT/assets\n"
          ],
          "name": "stdout"
        },
        {
          "output_type": "stream",
          "text": [
            "INFO:tensorflow:Assets written to: cifar100_BiT/assets\n"
          ],
          "name": "stderr"
        }
      ]
    },
    {
      "cell_type": "markdown",
      "metadata": {
        "id": "0QaZvE-MiPaU"
      },
      "source": [
        "## 5. Test "
      ]
    },
    {
      "cell_type": "code",
      "metadata": {
        "id": "e0qA2OkyiPaU"
      },
      "source": [
        "X_test,infor_test=tfds.load(name=dataset_name, split=['test'], with_info=True)\n",
        "X_test=X_test[0]"
      ],
      "execution_count": null,
      "outputs": []
    },
    {
      "cell_type": "code",
      "metadata": {
        "id": "BP9kHo_2iPaX"
      },
      "source": [
        "pipeline_test_new = (X_test.map(preprocess_test, num_parallel_calls=1)\n",
        "                  .map(cast_to_tuple)  # for keras model.fit\n",
        "                  .batch(BATCH_SIZE)\n",
        "                  .prefetch(2))"
      ],
      "execution_count": null,
      "outputs": []
    },
    {
      "cell_type": "code",
      "metadata": {
        "id": "2BhnCYfXiPab",
        "colab": {
          "base_uri": "https://localhost:8080/"
        },
        "outputId": "73d78f8a-c4da-4fbe-9757-55d6b1050713"
      },
      "source": [
        "model.evaluate(pipeline_test_new)"
      ],
      "execution_count": null,
      "outputs": [
        {
          "output_type": "stream",
          "text": [
            "79/79 [==============================] - 292s 4s/step - loss: 0.4907 - accuracy: 0.8591\n"
          ],
          "name": "stdout"
        },
        {
          "output_type": "execute_result",
          "data": {
            "text/plain": [
              "[0.49074068665504456, 0.8590999841690063]"
            ]
          },
          "metadata": {
            "tags": []
          },
          "execution_count": 25
        }
      ]
    },
    {
      "cell_type": "code",
      "metadata": {
        "id": "pnmgeY05iPal"
      },
      "source": [
        "from tensorflow.keras.models import load_model\n",
        "saved_model=load_model('cifar100_BiT')"
      ],
      "execution_count": null,
      "outputs": []
    },
    {
      "cell_type": "code",
      "metadata": {
        "colab": {
          "base_uri": "https://localhost:8080/"
        },
        "id": "MqhNoFrDJ1ZF",
        "outputId": "a8a5536b-e7fb-4421-dbef-36f787f553b6"
      },
      "source": [
        "saved_model.summary()"
      ],
      "execution_count": null,
      "outputs": [
        {
          "output_type": "stream",
          "text": [
            "Model: \"my_bi_t_model_1\"\n",
            "_________________________________________________________________\n",
            "Layer (type)                 Output Shape              Param #   \n",
            "=================================================================\n",
            "dense_1 (Dense)              multiple                  819300    \n",
            "_________________________________________________________________\n",
            "keras_layer_1 (KerasLayer)   multiple                  928340224 \n",
            "=================================================================\n",
            "Total params: 929,159,524\n",
            "Trainable params: 929,159,524\n",
            "Non-trainable params: 0\n",
            "_________________________________________________________________\n"
          ],
          "name": "stdout"
        }
      ]
    }
  ]
}